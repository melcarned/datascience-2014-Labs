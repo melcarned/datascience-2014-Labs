{
 "metadata": {
  "name": ""
 },
 "nbformat": 3,
 "nbformat_minor": 0,
 "worksheets": [
  {
   "cells": [
    {
     "cell_type": "code",
     "collapsed": false,
     "input": [
      "#Damiano Melcarne\n",
      "#111745005\n",
      "#Lab 0\n",
      "\n",
      "%matplotlib inline\n",
      "\n",
      "import matplotlib.pyplot as plt\n",
      "import numpy as np\n",
      "import pandas as pd"
     ],
     "language": "python",
     "metadata": {},
     "outputs": [],
     "prompt_number": 1
    },
    {
     "cell_type": "code",
     "collapsed": false,
     "input": [
      "data = pd.read_csv(\"/home/terrapin/Downloads/USArrests.csv\")"
     ],
     "language": "python",
     "metadata": {},
     "outputs": [],
     "prompt_number": 11
    },
    {
     "cell_type": "code",
     "collapsed": false,
     "input": [
      "data[:5]"
     ],
     "language": "python",
     "metadata": {},
     "outputs": [
      {
       "html": [
        "<div style=\"max-height:1000px;max-width:1500px;overflow:auto;\">\n",
        "<table border=\"1\" class=\"dataframe\">\n",
        "  <thead>\n",
        "    <tr style=\"text-align: right;\">\n",
        "      <th></th>\n",
        "      <th>Unnamed: 0</th>\n",
        "      <th>Murder</th>\n",
        "      <th>Assault</th>\n",
        "      <th>UrbanPop</th>\n",
        "      <th>Rape</th>\n",
        "    </tr>\n",
        "  </thead>\n",
        "  <tbody>\n",
        "    <tr>\n",
        "      <th>0</th>\n",
        "      <td>    Alabama</td>\n",
        "      <td> 13.2</td>\n",
        "      <td> 236</td>\n",
        "      <td> 58</td>\n",
        "      <td> 21.2</td>\n",
        "    </tr>\n",
        "    <tr>\n",
        "      <th>1</th>\n",
        "      <td>     Alaska</td>\n",
        "      <td> 10.0</td>\n",
        "      <td> 263</td>\n",
        "      <td> 48</td>\n",
        "      <td> 44.5</td>\n",
        "    </tr>\n",
        "    <tr>\n",
        "      <th>2</th>\n",
        "      <td>    Arizona</td>\n",
        "      <td>  8.1</td>\n",
        "      <td> 294</td>\n",
        "      <td> 80</td>\n",
        "      <td> 31.0</td>\n",
        "    </tr>\n",
        "    <tr>\n",
        "      <th>3</th>\n",
        "      <td>   Arkansas</td>\n",
        "      <td>  8.8</td>\n",
        "      <td> 190</td>\n",
        "      <td> 50</td>\n",
        "      <td> 19.5</td>\n",
        "    </tr>\n",
        "    <tr>\n",
        "      <th>4</th>\n",
        "      <td> California</td>\n",
        "      <td>  9.0</td>\n",
        "      <td> 276</td>\n",
        "      <td> 91</td>\n",
        "      <td> 40.6</td>\n",
        "    </tr>\n",
        "  </tbody>\n",
        "</table>\n",
        "<p>5 rows \u00d7 5 columns</p>\n",
        "</div>"
       ],
       "metadata": {},
       "output_type": "pyout",
       "prompt_number": 12,
       "text": [
        "   Unnamed: 0  Murder  Assault  UrbanPop  Rape\n",
        "0     Alabama    13.2      236        58  21.2\n",
        "1      Alaska    10.0      263        48  44.5\n",
        "2     Arizona     8.1      294        80  31.0\n",
        "3    Arkansas     8.8      190        50  19.5\n",
        "4  California     9.0      276        91  40.6\n",
        "\n",
        "[5 rows x 5 columns]"
       ]
      }
     ],
     "prompt_number": 12
    },
    {
     "cell_type": "code",
     "collapsed": false,
     "input": [
      "data.dtypes"
     ],
     "language": "python",
     "metadata": {},
     "outputs": [
      {
       "metadata": {},
       "output_type": "pyout",
       "prompt_number": 13,
       "text": [
        "Unnamed: 0     object\n",
        "Murder        float64\n",
        "Assault         int64\n",
        "UrbanPop        int64\n",
        "Rape          float64\n",
        "dtype: object"
       ]
      }
     ],
     "prompt_number": 13
    },
    {
     "cell_type": "code",
     "collapsed": false,
     "input": [
      "data.sum()"
     ],
     "language": "python",
     "metadata": {},
     "outputs": [
      {
       "metadata": {},
       "output_type": "pyout",
       "prompt_number": 15,
       "text": [
        "Unnamed: 0    AlabamaAlaskaArizonaArkansasCaliforniaColorado...\n",
        "Murder                                                    389.4\n",
        "Assault                                                    8538\n",
        "UrbanPop                                                   3277\n",
        "Rape                                                     1061.6\n",
        "dtype: object"
       ]
      }
     ],
     "prompt_number": 15
    },
    {
     "cell_type": "code",
     "collapsed": false,
     "input": [
      "type = ('389.4', '8538', '3277', '1061')"
     ],
     "language": "python",
     "metadata": {},
     "outputs": [],
     "prompt_number": 16
    },
    {
     "cell_type": "code",
     "collapsed": false,
     "input": [
      "from numpy.random import normal"
     ],
     "language": "python",
     "metadata": {},
     "outputs": [],
     "prompt_number": 18
    },
    {
     "cell_type": "code",
     "collapsed": false,
     "input": [
      "from pylab import *\n",
      "import numpy\n",
      "\n",
      "pos = numpy.arange(4) + .5\n",
      "\n",
      "totals = (389.4, 8538, 3277, 1061.6)\n",
      "crimetype = ('Murder', 'Assault', 'UrbanPop', 'Rape')\n",
      "\n",
      "plt.bar(pos, totals, align = 'center')\n",
      "plt.xticks(pos, crimetype)\n",
      "\n",
      "plt.xlabel('Crime')\n",
      "plt.ylabel('Number of Arrests')\n",
      "plt.title('US Arrests')\n",
      "plt.show()"
     ],
     "language": "python",
     "metadata": {},
     "outputs": [
      {
       "metadata": {},
       "output_type": "display_data",
       "png": "[encoded data removed]",
       "text": [
        "<matplotlib.figure.Figure at 0xb71cb7cc>"
       ]
      }
     ],
     "prompt_number": 34
    },
    {
     "cell_type": "code",
     "collapsed": false,
     "input": [],
     "language": "python",
     "metadata": {},
     "outputs": []
    }
   ],
   "metadata": {}
  }
 ]
}